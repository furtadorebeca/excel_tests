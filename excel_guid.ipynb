{
 "cells": [
  {
   "cell_type": "markdown",
   "id": "9a7db75a",
   "metadata": {},
   "source": []
  },
  {
   "cell_type": "code",
   "execution_count": 2,
   "id": "a082c966",
   "metadata": {},
   "outputs": [
    {
     "name": "stdout",
     "output_type": "stream",
     "text": [
      "Defaulting to user installation because normal site-packages is not writeable\n",
      "Requirement already satisfied: openpyxl in /home/ubuntu/.local/lib/python3.10/site-packages (3.1.5)\n",
      "Requirement already satisfied: et-xmlfile in /home/ubuntu/.local/lib/python3.10/site-packages (from openpyxl) (2.0.0)\n"
     ]
    }
   ],
   "source": [
    "!pip install openpyxl"
   ]
  },
  {
   "cell_type": "code",
   "execution_count": 6,
   "id": "52919016",
   "metadata": {},
   "outputs": [],
   "source": [
    "import openpyxl \n",
    "\n",
    "wb = openpyxl.load_workbook('/home/ubuntu/excel_tests/videogamesales.xlsx')\n",
    "\n",
    "ws = wb.active"
   ]
  },
  {
   "cell_type": "markdown",
   "id": "ae9b7dc8",
   "metadata": {},
   "source": [
    "ws = wb['vgsales'] (this is another way to select a specific sheet)"
   ]
  },
  {
   "cell_type": "code",
   "execution_count": 7,
   "id": "e81c184b",
   "metadata": {},
   "outputs": [
    {
     "name": "stdout",
     "output_type": "stream",
     "text": [
      "Total number of rows: 16328. And total number of columns: 11\n"
     ]
    }
   ],
   "source": [
    "print('Total number of rows: '+str(ws.max_row)+'. And total number of columns: '+str(ws.max_column))"
   ]
  },
  {
   "cell_type": "code",
   "execution_count": 8,
   "id": "5caef13b",
   "metadata": {},
   "outputs": [
    {
     "name": "stdout",
     "output_type": "stream",
     "text": [
      "The value in cell A1 is: Rank\n"
     ]
    }
   ],
   "source": [
    "print('The value in cell A1 is: '+ws['A1'].value)"
   ]
  },
  {
   "cell_type": "code",
   "execution_count": 10,
   "id": "9d996de0",
   "metadata": {},
   "outputs": [
    {
     "name": "stdout",
     "output_type": "stream",
     "text": [
      "['Rank', 'Name', 'Platform', 'Year', 'Genre', 'Publisher', 'NA_Sales', 'EU_Sales', 'JP_Sales', 'Other_Sales', 'Sum of Sales']\n"
     ]
    }
   ],
   "source": [
    "values = [ws.cell(row=1,column=i).value for i in range(1,ws.max_column+1)]\n",
    "print(values)"
   ]
  },
  {
   "cell_type": "code",
   "execution_count": 11,
   "id": "01e0a059",
   "metadata": {},
   "outputs": [
    {
     "name": "stdout",
     "output_type": "stream",
     "text": [
      "['Wii Sports', 'Super Mario Bros.', 'Mario Kart Wii', 'Wii Sports Resort', 'Pokemon Red/Pokemon Blue', 'Tetris', 'New Super Mario Bros.', 'Wii Play', 'New Super Mario Bros. Wii', 'Duck Hunt']\n"
     ]
    }
   ],
   "source": [
    "# write data to a specific cell\n",
    "data=[ws.cell(row=i,column=2).value for i in range(2,12)]\n",
    "print(data)"
   ]
  },
  {
   "cell_type": "markdown",
   "id": "b9cc2fe5",
   "metadata": {},
   "source": [
    "reading data from a range of cells (from column 1 to 6)"
   ]
  },
  {
   "cell_type": "code",
   "execution_count": 12,
   "id": "16ed5a7f",
   "metadata": {},
   "outputs": [],
   "source": [
    "my_list = list()"
   ]
  },
  {
   "cell_type": "markdown",
   "id": "86bd5693",
   "metadata": {},
   "source": [
    "print first 10 rows"
   ]
  },
  {
   "cell_type": "code",
   "execution_count": 17,
   "id": "4cfb1434",
   "metadata": {},
   "outputs": [],
   "source": [
    "for value in ws.iter_rows(\n",
    "    min_row=1, max_row=11, min_col=1, max_col=6, \n",
    "    values_only=True):\n",
    "    my_list.append(value)"
   ]
  },
  {
   "cell_type": "code",
   "execution_count": 18,
   "id": "fd3f7a11",
   "metadata": {},
   "outputs": [
    {
     "name": "stdout",
     "output_type": "stream",
     "text": [
      "First 10 rows:\n",
      "Rank    Name                               Platform  Year      Genre          Publisher      \n",
      "1       Wii Sports                         Wii       2006      Sports         Nintendo       \n",
      "2       Super Mario Bros.                  NES       1985      Platform       Nintendo       \n",
      "3       Mario Kart Wii                     Wii       2008      Racing         Nintendo       \n",
      "4       Wii Sports Resort                  Wii       2009      Sports         Nintendo       \n",
      "5       Pokemon Red/Pokemon Blue           GB        1996      Role-Playing   Nintendo       \n",
      "6       Tetris                             GB        1989      Puzzle         Nintendo       \n",
      "7       New Super Mario Bros.              DS        2006      Platform       Nintendo       \n",
      "8       Wii Play                           Wii       2006      Misc           Nintendo       \n",
      "9       New Super Mario Bros. Wii          Wii       2009      Platform       Nintendo       \n",
      "10      Duck Hunt                          NES       1984      Shooter        Nintendo       \n",
      "Rank    Name                               Platform  Year      Genre          Publisher      \n",
      "1       Wii Sports                         Wii       2006      Sports         Nintendo       \n",
      "2       Super Mario Bros.                  NES       1985      Platform       Nintendo       \n",
      "3       Mario Kart Wii                     Wii       2008      Racing         Nintendo       \n",
      "4       Wii Sports Resort                  Wii       2009      Sports         Nintendo       \n",
      "5       Pokemon Red/Pokemon Blue           GB        1996      Role-Playing   Nintendo       \n",
      "6       Tetris                             GB        1989      Puzzle         Nintendo       \n",
      "7       New Super Mario Bros.              DS        2006      Platform       Nintendo       \n",
      "8       Wii Play                           Wii       2006      Misc           Nintendo       \n",
      "9       New Super Mario Bros. Wii          Wii       2009      Platform       Nintendo       \n",
      "10      Duck Hunt                          NES       1984      Shooter        Nintendo       \n",
      "Rank    Name                               Platform  Year      Genre          Publisher      \n",
      "1       Wii Sports                         Wii       2006      Sports         Nintendo       \n",
      "2       Super Mario Bros.                  NES       1985      Platform       Nintendo       \n",
      "3       Mario Kart Wii                     Wii       2008      Racing         Nintendo       \n",
      "4       Wii Sports Resort                  Wii       2009      Sports         Nintendo       \n",
      "5       Pokemon Red/Pokemon Blue           GB        1996      Role-Playing   Nintendo       \n",
      "6       Tetris                             GB        1989      Puzzle         Nintendo       \n",
      "7       New Super Mario Bros.              DS        2006      Platform       Nintendo       \n",
      "8       Wii Play                           Wii       2006      Misc           Nintendo       \n",
      "9       New Super Mario Bros. Wii          Wii       2009      Platform       Nintendo       \n",
      "10      Duck Hunt                          NES       1984      Shooter        Nintendo       \n",
      "Rank    Name                               Platform  Year      Genre          Publisher      \n",
      "1       Wii Sports                         Wii       2006      Sports         Nintendo       \n",
      "2       Super Mario Bros.                  NES       1985      Platform       Nintendo       \n",
      "3       Mario Kart Wii                     Wii       2008      Racing         Nintendo       \n",
      "4       Wii Sports Resort                  Wii       2009      Sports         Nintendo       \n",
      "5       Pokemon Red/Pokemon Blue           GB        1996      Role-Playing   Nintendo       \n",
      "6       Tetris                             GB        1989      Puzzle         Nintendo       \n",
      "7       New Super Mario Bros.              DS        2006      Platform       Nintendo       \n",
      "8       Wii Play                           Wii       2006      Misc           Nintendo       \n",
      "9       New Super Mario Bros. Wii          Wii       2009      Platform       Nintendo       \n",
      "10      Duck Hunt                          NES       1984      Shooter        Nintendo       \n",
      "Rank    Name                               Platform  Year      Genre          Publisher      \n",
      "1       Wii Sports                         Wii       2006      Sports         Nintendo       \n",
      "2       Super Mario Bros.                  NES       1985      Platform       Nintendo       \n",
      "3       Mario Kart Wii                     Wii       2008      Racing         Nintendo       \n",
      "4       Wii Sports Resort                  Wii       2009      Sports         Nintendo       \n",
      "5       Pokemon Red/Pokemon Blue           GB        1996      Role-Playing   Nintendo       \n",
      "6       Tetris                             GB        1989      Puzzle         Nintendo       \n",
      "7       New Super Mario Bros.              DS        2006      Platform       Nintendo       \n",
      "8       Wii Play                           Wii       2006      Misc           Nintendo       \n",
      "9       New Super Mario Bros. Wii          Wii       2009      Platform       Nintendo       \n",
      "10      Duck Hunt                          NES       1984      Shooter        Nintendo       \n"
     ]
    }
   ],
   "source": [
    "print(\"First 10 rows:\")   \n",
    "for ele1,ele2,ele3,ele4,ele5,ele6 in my_list:\n",
    "    (print (\"{:<8}{:<35}{:<10}{:<10}{:<15}{:<15}\".format(ele1,ele2,ele3,ele4,ele5,ele6)))"
   ]
  },
  {
   "cell_type": "markdown",
   "id": "baf9672f",
   "metadata": {},
   "source": [
    "write the sum of sales on cell K1"
   ]
  },
  {
   "cell_type": "code",
   "execution_count": 19,
   "id": "1a5ef435",
   "metadata": {},
   "outputs": [],
   "source": [
    "ws['K1'] = 'Sum of Sales'\n",
    "\n",
    "# ws.cell(row=1, column=11, value = 'Sum of Sales')\n",
    "wb.save('videogamesales.xlsx')"
   ]
  },
  {
   "cell_type": "code",
   "execution_count": null,
   "id": "7a3faa6f",
   "metadata": {},
   "outputs": [
    {
     "name": "stdout",
     "output_type": "stream",
     "text": [
      "Rank    Name                               Platform  Year      Genre          Publisher      \n",
      "1       Wii Sports                         Wii       2006      Sports         Nintendo       \n",
      "2       Super Mario Bros.                  NES       1985      Platform       Nintendo       \n",
      "3       Mario Kart Wii                     Wii       2008      Racing         Nintendo       \n",
      "4       Wii Sports Resort                  Wii       2009      Sports         Nintendo       \n",
      "5       Pokemon Red/Pokemon Blue           GB        1996      Role-Playing   Nintendo       \n",
      "6       Tetris                             GB        1989      Puzzle         Nintendo       \n",
      "7       New Super Mario Bros.              DS        2006      Platform       Nintendo       \n",
      "8       Wii Play                           Wii       2006      Misc           Nintendo       \n",
      "9       New Super Mario Bros. Wii          Wii       2009      Platform       Nintendo       \n",
      "10      Duck Hunt                          NES       1984      Shooter        Nintendo       \n",
      "Rank    Name                               Platform  Year      Genre          Publisher      \n",
      "1       Wii Sports                         Wii       2006      Sports         Nintendo       \n",
      "2       Super Mario Bros.                  NES       1985      Platform       Nintendo       \n",
      "3       Mario Kart Wii                     Wii       2008      Racing         Nintendo       \n",
      "4       Wii Sports Resort                  Wii       2009      Sports         Nintendo       \n",
      "5       Pokemon Red/Pokemon Blue           GB        1996      Role-Playing   Nintendo       \n",
      "6       Tetris                             GB        1989      Puzzle         Nintendo       \n",
      "7       New Super Mario Bros.              DS        2006      Platform       Nintendo       \n",
      "8       Wii Play                           Wii       2006      Misc           Nintendo       \n",
      "9       New Super Mario Bros. Wii          Wii       2009      Platform       Nintendo       \n",
      "10      Duck Hunt                          NES       1984      Shooter        Nintendo       \n"
     ]
    }
   ],
   "source": [
    "\n",
    "# row_position = 2\n",
    "# col_position = 7\n",
    "\n",
    "# total_sales = ((ws.cell(row=row_position, column=col_position).value)+\n",
    "#                (ws.cell(row=row_position, column=col_position+1).value)+\n",
    "#                (ws.cell(row=row_position, column=col_position+2).value)+\n",
    "#                (ws.cell(row=row_position, column=col_position+3).value))\n",
    "\n",
    "# ws.cell(row=2,column=11).value=total_sales\n",
    "# wb.save('videogamesales.xlsx')\n",
    "\n",
    "# Calculate total sales for each row and write to column 11\n",
    "# Start from row 2 to avoid headers\n",
    "# and assuming sales data is in columns 7 to 10 (NA_Sales to Other_Sales)\n",
    "# Initialize row position\n"
   ]
  }
 ],
 "metadata": {
  "kernelspec": {
   "display_name": "Python 3",
   "language": "python",
   "name": "python3"
  },
  "language_info": {
   "codemirror_mode": {
    "name": "ipython",
    "version": 3
   },
   "file_extension": ".py",
   "mimetype": "text/x-python",
   "name": "python",
   "nbconvert_exporter": "python",
   "pygments_lexer": "ipython3",
   "version": "3.10.12"
  }
 },
 "nbformat": 4,
 "nbformat_minor": 5
}
